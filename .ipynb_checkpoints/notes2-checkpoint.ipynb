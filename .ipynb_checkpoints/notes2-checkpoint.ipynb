{
 "cells": [
  {
   "cell_type": "markdown",
   "metadata": {},
   "source": [
    "# Day 2 Notes"
   ]
  },
  {
   "cell_type": "markdown",
   "metadata": {},
   "source": [
    "## Review of Loops"
   ]
  },
  {
   "cell_type": "markdown",
   "metadata": {},
   "source": [
    "Let's sum some numbers!\n",
    "Use a FOR loop to loop through the numbers in the list and sum them together."
   ]
  },
  {
   "cell_type": "code",
   "execution_count": 4,
   "metadata": {
    "collapsed": true
   },
   "outputs": [],
   "source": [
    "list = [1,3,5,6,7,8]"
   ]
  },
  {
   "cell_type": "code",
   "execution_count": 2,
   "metadata": {
    "collapsed": true
   },
   "outputs": [],
   "source": [
    "sum = 0"
   ]
  },
  {
   "cell_type": "code",
   "execution_count": 3,
   "metadata": {
    "collapsed": false
   },
   "outputs": [
    {
     "name": "stdout",
     "output_type": "stream",
     "text": [
      "The sum of these numbers is... 0\n"
     ]
    }
   ],
   "source": [
    "# Insert your code here! (On etherpad)\n",
    "\n",
    "print('The sum of these numbers is...', sum)"
   ]
  },
  {
   "cell_type": "code",
   "execution_count": 5,
   "metadata": {
    "collapsed": false
   },
   "outputs": [
    {
     "name": "stdout",
     "output_type": "stream",
     "text": [
      "the sum of the list elements is 30\n"
     ]
    }
   ],
   "source": [
    "sum = 0;\n",
    "for listElement in list:\n",
    "    sum = sum + listElement\n",
    "print('the sum of the list elements is',sum) "
   ]
  },
  {
   "cell_type": "code",
   "execution_count": 6,
   "metadata": {
    "collapsed": false
   },
   "outputs": [
    {
     "name": "stdout",
     "output_type": "stream",
     "text": [
      "Help on built-in function print in module builtins:\n",
      "\n",
      "print(...)\n",
      "    print(value, ..., sep=' ', end='\\n', file=sys.stdout, flush=False)\n",
      "    \n",
      "    Prints the values to a stream, or to sys.stdout by default.\n",
      "    Optional keyword arguments:\n",
      "    file:  a file-like object (stream); defaults to the current sys.stdout.\n",
      "    sep:   string inserted between values, default a space.\n",
      "    end:   string appended after the last value, default a newline.\n",
      "    flush: whether to forcibly flush the stream.\n",
      "\n"
     ]
    }
   ],
   "source": [
    "help(print)"
   ]
  },
  {
   "cell_type": "markdown",
   "metadata": {},
   "source": [
    "# Control Flow / Making Choices"
   ]
  },
  {
   "cell_type": "code",
   "execution_count": 13,
   "metadata": {
    "collapsed": true
   },
   "outputs": [],
   "source": [
    "num = 99"
   ]
  },
  {
   "cell_type": "code",
   "execution_count": 14,
   "metadata": {
    "collapsed": false
   },
   "outputs": [
    {
     "name": "stdout",
     "output_type": "stream",
     "text": [
      "Not Greater!\n",
      "Final Text\n"
     ]
    }
   ],
   "source": [
    "if num > 100:\n",
    "    print('Greater!')\n",
    "else:\n",
    "    print('Not Greater!')\n",
    "    \n",
    "print('Final Text')"
   ]
  },
  {
   "cell_type": "markdown",
   "metadata": {},
   "source": [
    "## Determining if Greater, Less than, Equal to 0"
   ]
  },
  {
   "cell_type": "code",
   "execution_count": 16,
   "metadata": {
    "collapsed": false
   },
   "outputs": [
    {
     "name": "stdout",
     "output_type": "stream",
     "text": [
      "Equal to Zero\n"
     ]
    }
   ],
   "source": [
    "num = 0\n",
    "if num > 0:\n",
    "    print('Greater!')\n",
    "else:\n",
    "    if num == 0:\n",
    "        print('Equal to Zero')\n",
    "    else:\n",
    "        print('Less Than')\n",
    "    "
   ]
  },
  {
   "cell_type": "code",
   "execution_count": 17,
   "metadata": {
    "collapsed": false
   },
   "outputs": [
    {
     "name": "stdout",
     "output_type": "stream",
     "text": [
      "Equal to Zero\n"
     ]
    }
   ],
   "source": [
    "num = 0\n",
    "if num > 0:\n",
    "    print('Greater!')\n",
    "elif num == 0:\n",
    "    print('Equal to Zero')\n",
    "else:\n",
    "    print('Less Than')\n",
    "    "
   ]
  },
  {
   "cell_type": "code",
   "execution_count": 19,
   "metadata": {
    "collapsed": false
   },
   "outputs": [],
   "source": [
    "if num != 0: ## Not Equal to\n",
    "    print('Not equal to')"
   ]
  },
  {
   "cell_type": "code",
   "execution_count": 24,
   "metadata": {
    "collapsed": false
   },
   "outputs": [
    {
     "name": "stdout",
     "output_type": "stream",
     "text": [
      "It meets at least one condition\n"
     ]
    }
   ],
   "source": [
    "num = 13\n",
    "if (num > 6) and (num < 12):\n",
    "    print('The number is likely 7!')\n",
    "elif (num > 6) or (num < 12):\n",
    "    print('It meets at least one condition')"
   ]
  },
  {
   "cell_type": "markdown",
   "metadata": {},
   "source": [
    "## Let's get back to our data"
   ]
  },
  {
   "cell_type": "code",
   "execution_count": 25,
   "metadata": {
    "collapsed": true
   },
   "outputs": [],
   "source": [
    "import numpy as np\n",
    "data = np.loadtxt(fname='inflammation-01.csv',delimiter=',')"
   ]
  },
  {
   "cell_type": "code",
   "execution_count": 26,
   "metadata": {
    "collapsed": false
   },
   "outputs": [
    {
     "name": "stdout",
     "output_type": "stream",
     "text": [
      "[[ 0.  0.  1. ...,  3.  0.  0.]\n",
      " [ 0.  1.  2. ...,  1.  0.  1.]\n",
      " [ 0.  1.  1. ...,  2.  1.  1.]\n",
      " ..., \n",
      " [ 0.  1.  1. ...,  1.  1.  1.]\n",
      " [ 0.  0.  0. ...,  0.  2.  0.]\n",
      " [ 0.  0.  1. ...,  1.  1.  0.]]\n"
     ]
    }
   ],
   "source": [
    "print(data)"
   ]
  },
  {
   "cell_type": "code",
   "execution_count": 33,
   "metadata": {
    "collapsed": false
   },
   "outputs": [
    {
     "name": "stdout",
     "output_type": "stream",
     "text": [
      "Suspicious looking maxima!\n"
     ]
    }
   ],
   "source": [
    "if data.max(axis=0)[0] == 0 and data.max(axis=0)[20] == 20:\n",
    "    print('Suspicious looking maxima!')\n",
    "elif data.min(axis=0).sum() == 0:\n",
    "    print('Minima add up to zero')\n",
    "else:\n",
    "    print('Everything is fine')"
   ]
  },
  {
   "cell_type": "code",
   "execution_count": 32,
   "metadata": {
    "collapsed": false
   },
   "outputs": [
    {
     "name": "stdout",
     "output_type": "stream",
     "text": [
      "Minima add up to zero\n"
     ]
    }
   ],
   "source": [
    "data3 = np.loadtxt(fname='inflammation-03.csv',delimiter=',')\n",
    "if data3.max(axis=0)[0] == 0 and data3.max(axis=0)[20] == 20:\n",
    "    print('Suspicious looking maxima!')\n",
    "elif data3.min(axis=0).sum() == 0:\n",
    "    print('Minima add up to zero')\n",
    "else:\n",
    "    print('Everything is fine')"
   ]
  },
  {
   "cell_type": "markdown",
   "metadata": {},
   "source": [
    "## Understanding Control Flow"
   ]
  },
  {
   "cell_type": "code",
   "execution_count": 36,
   "metadata": {
    "collapsed": false
   },
   "outputs": [
    {
     "name": "stdout",
     "output_type": "stream",
     "text": [
      "B\n",
      "C\n"
     ]
    }
   ],
   "source": [
    "if 4 > 5:\n",
    "    print('A')\n",
    "if 4 < 5:\n",
    "    print('B')\n",
    "if 4 <= 5:\n",
    "    print('C')"
   ]
  },
  {
   "cell_type": "code",
   "execution_count": 40,
   "metadata": {
    "collapsed": false
   },
   "outputs": [
    {
     "name": "stdout",
     "output_type": "stream",
     "text": [
      "TRUE\n"
     ]
    }
   ],
   "source": [
    "set1 = [1.456, 3.45]\n",
    "set2 = [2345, 2354]\n",
    "\n",
    "# Write some conditions that print TRUE if the\n",
    "# Second value in a set is within 10% of the first value in the set\n",
    "# Post of Etherpad\n",
    "\n",
    "if set2[0]*.9 <= set2[1] <= set2[0]*1.1: print('TRUE')"
   ]
  },
  {
   "cell_type": "code",
   "execution_count": 41,
   "metadata": {
    "collapsed": false
   },
   "outputs": [
    {
     "name": "stdout",
     "output_type": "stream",
     "text": [
      "[1.456, 3.45]\n",
      "false\n",
      "[2345, 2354]\n",
      "true\n"
     ]
    }
   ],
   "source": [
    "listofsets = [set1, set2]\n",
    "for aSet in listofsets:\n",
    "    print(aSet)\n",
    "    if aSet[1] <= 1.1*aSet[0] or aSet[1] <= aSet[0]*0.9 :\n",
    "        print('true')\n",
    "    else:\n",
    "        print('false')"
   ]
  },
  {
   "cell_type": "code",
   "execution_count": 44,
   "metadata": {
    "collapsed": false
   },
   "outputs": [
    {
     "name": "stdout",
     "output_type": "stream",
     "text": [
      "False\n",
      "True\n"
     ]
    }
   ],
   "source": [
    "for x in [set1, set2]:\n",
    "    if abs(x[1]-x[0])/x[0] < .1:\n",
    "        print(\"True\")\n",
    "    else: print(\"False\")"
   ]
  },
  {
   "cell_type": "code",
   "execution_count": 45,
   "metadata": {
    "collapsed": false
   },
   "outputs": [
    {
     "name": "stdout",
     "output_type": "stream",
     "text": [
      "FALSE\n",
      "TRUE\n",
      "FALSE\n",
      "FALSE\n"
     ]
    }
   ],
   "source": [
    "set1 = [1.456, 3.45]\n",
    "set2 = [2345, 2354]\n",
    "set3 = [2345678, 329078460234]\n",
    "set4 = [123712436, 12345258]\n",
    "\n",
    "if set1[0]*.9 <= set1[1] <= set1[0]*1.1: \n",
    "    print('TRUE')\n",
    "else:\n",
    "    print('FALSE')\n",
    "    \n",
    "if set2[0]*.9 <= set2[1] <= set2[0]*1.1: \n",
    "    print('TRUE')\n",
    "else:\n",
    "    print('FALSE')\n",
    "    \n",
    "if set3[0]*.9 <= set3[1] <= set3[0]*1.1: \n",
    "    print('TRUE')\n",
    "else:\n",
    "    print('FALSE')\n",
    "    \n",
    "if set4[0]*.9 <= set4[1] <= set4[0]*1.1: \n",
    "    print('TRUE')\n",
    "else:\n",
    "    print('FALSE')"
   ]
  },
  {
   "cell_type": "code",
   "execution_count": 46,
   "metadata": {
    "collapsed": false
   },
   "outputs": [
    {
     "name": "stdout",
     "output_type": "stream",
     "text": [
      "[1.456, 3.45]\n",
      "false\n",
      "[2345, 2354]\n",
      "true\n",
      "[2345678, 329078460234]\n",
      "false\n",
      "[123712436, 12345258]\n",
      "true\n"
     ]
    }
   ],
   "source": [
    "listofsets = [set1, set2, set3, set4]\n",
    "for aSet in listofsets:\n",
    "    print(aSet)\n",
    "    if aSet[1] <= 1.1*aSet[0] or aSet[1] <= aSet[0]*0.9 :\n",
    "        print('true')\n",
    "    else:\n",
    "        print('false')"
   ]
  },
  {
   "cell_type": "markdown",
   "metadata": {},
   "source": [
    "# Functions"
   ]
  },
  {
   "cell_type": "markdown",
   "metadata": {},
   "source": [
    "## Converting Temperatures using functions"
   ]
  },
  {
   "cell_type": "code",
   "execution_count": 47,
   "metadata": {
    "collapsed": true
   },
   "outputs": [],
   "source": [
    "def fahr_to_kelvin(temp):\n",
    "    return ((temp - 32) * (5/9) + 273.15)"
   ]
  },
  {
   "cell_type": "code",
   "execution_count": 52,
   "metadata": {
    "collapsed": false
   },
   "outputs": [
    {
     "name": "stdout",
     "output_type": "stream",
     "text": [
      "422.0388888888889\n",
      "280.3722222222222\n"
     ]
    }
   ],
   "source": [
    "temp1 = 300\n",
    "temp2 = 45\n",
    "\n",
    "print((temp1 - 32) * (5/9) + 273.15)\n",
    "print((temp2 - 32) * (5/9) + 273.15)"
   ]
  },
  {
   "cell_type": "code",
   "execution_count": 53,
   "metadata": {
    "collapsed": false
   },
   "outputs": [
    {
     "name": "stdout",
     "output_type": "stream",
     "text": [
      "422.0388888888889\n"
     ]
    }
   ],
   "source": [
    "print(fahr_to_kelvin(temp1))"
   ]
  },
  {
   "cell_type": "code",
   "execution_count": 55,
   "metadata": {
    "collapsed": false
   },
   "outputs": [
    {
     "name": "stdout",
     "output_type": "stream",
     "text": [
      "Freezing point of water is 273.15 Kelvin\n",
      "Boiling point of water is 373.15 Kelvin\n"
     ]
    }
   ],
   "source": [
    "print('Freezing point of water is', fahr_to_kelvin(32), 'Kelvin')\n",
    "print('Boiling point of water is', fahr_to_kelvin(212), 'Kelvin')"
   ]
  },
  {
   "cell_type": "code",
   "execution_count": 62,
   "metadata": {
    "collapsed": false
   },
   "outputs": [
    {
     "name": "stdout",
     "output_type": "stream",
     "text": [
      "Absolute zero in Celsius is -273.15 degrees celsius\n"
     ]
    }
   ],
   "source": [
    "## Function to convert Kelvin to Celsius\n",
    "\n",
    "def kelvin_to_celsius(temp_k):\n",
    "    return temp_k - 273.15\n",
    "\n",
    "print('Absolute zero in Celsius is', kelvin_to_celsius(0), 'degrees celsius')"
   ]
  },
  {
   "cell_type": "code",
   "execution_count": 63,
   "metadata": {
    "collapsed": false
   },
   "outputs": [
    {
     "name": "stdout",
     "output_type": "stream",
     "text": [
      "Freezing point of water in Celsius 0.0\n"
     ]
    }
   ],
   "source": [
    "def fahr_to_celsius(temp_f):\n",
    "    # Put stuff here!\n",
    "    temp_k = fahr_to_kelvin(temp_f)\n",
    "    result = kelvin_to_celsius(temp_k)\n",
    "    return result\n",
    "\n",
    "print('Freezing point of water in Celsius', fahr_to_celsius(32.0))"
   ]
  },
  {
   "cell_type": "markdown",
   "metadata": {},
   "source": [
    "# 10% Functional"
   ]
  },
  {
   "cell_type": "code",
   "execution_count": 64,
   "metadata": {
    "collapsed": false
   },
   "outputs": [
    {
     "name": "stdout",
     "output_type": "stream",
     "text": [
      "Hello world!\n"
     ]
    }
   ],
   "source": [
    "import __hello__"
   ]
  },
  {
   "cell_type": "code",
   "execution_count": 65,
   "metadata": {
    "collapsed": true
   },
   "outputs": [],
   "source": [
    "import antigravity"
   ]
  },
  {
   "cell_type": "code",
   "execution_count": 71,
   "metadata": {
    "collapsed": false
   },
   "outputs": [
    {
     "name": "stdout",
     "output_type": "stream",
     "text": [
      "15\n",
      "18\n"
     ]
    }
   ],
   "source": [
    "# create a function that takes a list of numbers and sums them!\n",
    "\n",
    "nums = [1,2,3,4,5]\n",
    "nums2 = [1,2,4,5,6]\n",
    "\n",
    "def summing(list):\n",
    "    sum = 0;\n",
    "    for i in list:\n",
    "        sum += i\n",
    "    return sum\n",
    "\n",
    "print(summing(nums))\n",
    "print(summing(nums2))"
   ]
  },
  {
   "cell_type": "code",
   "execution_count": 74,
   "metadata": {
    "collapsed": false
   },
   "outputs": [],
   "source": [
    "## Writing function to check our data\n",
    "def detect_problems(filename):\n",
    "    if filename.max(axis=0)[0] == 0 and filename.max(axis=0)[20] == 20:\n",
    "        print('Suspicious looking maxima!')\n",
    "    elif filename.min(axis=0).sum() == 0:\n",
    "        print('Minima add up to zero')\n",
    "    else:\n",
    "        print('Everything is fine')"
   ]
  },
  {
   "cell_type": "code",
   "execution_count": 76,
   "metadata": {
    "collapsed": false
   },
   "outputs": [
    {
     "name": "stdout",
     "output_type": "stream",
     "text": [
      "Suspicious looking maxima!\n",
      "Minima add up to zero\n"
     ]
    }
   ],
   "source": [
    "detect_problems(data)\n",
    "detect_problems(data3)"
   ]
  },
  {
   "cell_type": "code",
   "execution_count": 77,
   "metadata": {
    "collapsed": true
   },
   "outputs": [],
   "source": [
    "import matplotlib\n",
    "%matplotlib inline\n",
    "\n",
    "def analyze(dataset, graph):\n",
    "    # Create a canvas for the plot\n",
    "    fig = matplotlib.pyplot.figure(figsize=(10,3))\n",
    "    \n",
    "    # Earmark spots on the canvas for subplots\n",
    "    axes1 = fig.add_subplot(1,3,1) ## create subplot 1\n",
    "    axes2 = fig.add_subplot(1,3,2) ## create subplot 2\n",
    "    axes3 = fig.add_subplot(1,3,3) ## create subplot 3\n",
    "    \n",
    "    # Plot averages\n",
    "    axes1.plot(dataset.mean(axis=0)) ## plot the average\n",
    "    axes1.set_ylabel('average') ## set the ylabel\n",
    "    \n",
    "    # Plot daily maxima\n",
    "    axes2.plot(dataset.max(axis=0))\n",
    "    axes2.set_ylabel('maximum')\n",
    "    \n",
    "    # Plot daily minima\n",
    "    axes3.plot(dataset.min(axis=0))\n",
    "    axes3.set_ylabel('minimum')\n",
    "\n",
    "    # Display plot\n",
    "    fig.tight_layout()\n",
    "    matplotlib.pyplot.show()"
   ]
  },
  {
   "cell_type": "code",
   "execution_count": 78,
   "metadata": {
    "collapsed": false
   },
   "outputs": [
    {
     "data": {
      "image/png": "[encoded data removed]",
      "text/plain": [
       "<matplotlib.figure.Figure at 0x103395c18>"
      ]
     },
     "metadata": {},
     "output_type": "display_data"
    }
   ],
   "source": [
    "analyze(data)"
   ]
  },
  {
   "cell_type": "code",
   "execution_count": 79,
   "metadata": {
    "collapsed": false
   },
   "outputs": [
    {
     "data": {
      "image/png": "[encoded data removed]",
      "text/plain": [
       "<matplotlib.figure.Figure at 0x1035edef0>"
      ]
     },
     "metadata": {},
     "output_type": "display_data"
    }
   ],
   "source": [
    "analyze(data3)"
   ]
  },
  {
   "cell_type": "code",
   "execution_count": 99,
   "metadata": {
    "collapsed": false
   },
   "outputs": [
    {
     "data": {
      "image/png": "[encoded data removed]",
      "text/plain": [
       "<matplotlib.figure.Figure at 0x10c78d358>"
      ]
     },
     "metadata": {},
     "output_type": "display_data"
    }
   ],
   "source": [
    "# Create a modified function, analyze_one(), that take two parameters\n",
    "# dataset, graph\n",
    "# Where dataset is a data set\n",
    "# And graph is a string with one of the values ['min', 'max', 'average', 'sd']\n",
    "# Output:\n",
    "# A single plot of that data set with type specified in the graph\n",
    "graph = 'min'\n",
    "\n",
    "def analyze_one(data, graph, a=0):\n",
    "    import matplotlib.pyplot as mp\n",
    "    %matplotlib inline\n",
    "\n",
    "    if graph=='max':\n",
    "        mp.plot(data.max(axis=a))\n",
    "    elif graph=='min':\n",
    "        mp.plot(data.min(axis=a))\n",
    "    elif graph=='average':\n",
    "        mp.plot(data.mean(axis=a))\n",
    "    elif graph=='sd':\n",
    "        mp.plot(data.std(axis=a))        \n",
    "\n",
    "    mp.show()\n",
    "    \n",
    "analyze_one(data, 'max', a=1) #This would produce one graph, the minima for 'data'\n"
   ]
  },
  {
   "cell_type": "code",
   "execution_count": 91,
   "metadata": {
    "collapsed": true
   },
   "outputs": [],
   "source": [
    "def analyze_one(filename,graph):\n",
    "    dataset = np.loadtxt(fname=filename,delimiter=',')\n",
    "    if graph=='min':\n",
    "        matplotlib.pyplot.plot(dataset.min(axis=0))\n",
    "        matplotlib.pyplot.ylabel('minimum')\n",
    "    elif graph=='max':\n",
    "        matplotlib.pyplot.plot(dataset.max(axis=0))\n",
    "        matplotlib.pyplot.ylabel('maximum')\n",
    "    elif graph=='avg':\n",
    "        matplotlib.pyplot.plot(dataset.mean(axis=0))\n",
    "        matplotlib.pyplot.ylabel('average')\n",
    "    elif graph=='sd':\n",
    "        matplotlib.pyplot.plot(dataset.std(axis=0))\n",
    "        matplotlib.pyplot.ylabel('standard deviation')\n",
    "    matplotlib.pyplot.xlabel('days')"
   ]
  },
  {
   "cell_type": "code",
   "execution_count": 87,
   "metadata": {
    "collapsed": false
   },
   "outputs": [
    {
     "data": {
      "image/png": "[encoded data removed]",
      "text/plain": [
       "<matplotlib.figure.Figure at 0x10c730710>"
      ]
     },
     "metadata": {},
     "output_type": "display_data"
    }
   ],
   "source": [
    "analyze_one(dataset = data3, graph = 'min')"
   ]
  },
  {
   "cell_type": "code",
   "execution_count": 92,
   "metadata": {
    "collapsed": false
   },
   "outputs": [
    {
     "data": {
      "image/png": "[encoded data removed]",
      "text/plain": [
       "<matplotlib.figure.Figure at 0x10c768fd0>"
      ]
     },
     "metadata": {},
     "output_type": "display_data"
    }
   ],
   "source": [
    "fnames = ['inflammation-01.csv', 'inflammation-02.csv','inflammation-03.csv']\n",
    "for x in fnames:\n",
    "    analyze_one(x, 'min')\n",
    "\n",
    "# Plots everything on one plot for now - how could we change this code\n",
    "# to create multiple plots?"
   ]
  },
  {
   "cell_type": "code",
   "execution_count": 1,
   "metadata": {
    "collapsed": true
   },
   "outputs": [],
   "source": [
    "## these are some changes"
   ]
  },
  {
   "cell_type": "code",
   "execution_count": null,
   "metadata": {
    "collapsed": true
   },
   "outputs": [],
   "source": []
  }
 ],
 "metadata": {
  "kernelspec": {
   "display_name": "Python 3",
   "language": "python",
   "name": "python3"
  },
  "language_info": {
   "codemirror_mode": {
    "name": "ipython",
    "version": 3
   },
   "file_extension": ".py",
   "mimetype": "text/x-python",
   "name": "python",
   "nbconvert_exporter": "python",
   "pygments_lexer": "ipython3",
   "version": "3.5.1"
  }
 },
 "nbformat": 4,
 "nbformat_minor": 0
}
